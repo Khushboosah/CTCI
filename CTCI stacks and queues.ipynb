{
 "cells": [
  {
   "cell_type": "markdown",
   "metadata": {},
   "source": [
    "**1.Three in One: Describe how you could use a single array to implement three stacks.**<br>\n",
    "https://www.geeksforgeeks.org/efficiently-implement-k-stacks-single-array/"
   ]
  },
  {
   "cell_type": "code",
   "execution_count": 254,
   "metadata": {},
   "outputs": [],
   "source": [
    "class Kstackinarray:\n",
    "    def __init__(self,k,n):\n",
    "        self.sizestack = k\n",
    "        self.arraysize = n\n",
    "        self.array = [0]*self.arraysize\n",
    "        self.cur_index=0\n",
    "        self.next_index = [i+1 for i in range(self.arraysize)]\n",
    "        self.top = [-1]*self.sizestack\n",
    "        print(self.sizestack,self.arraysize,self.array,self.cur_index,self.next_index,self.top)\n",
    "        \n",
    "    def is_empty(self,snacknum):\n",
    "        return self.top[snacknum]==-1\n",
    "        \n",
    "    def is_full(self):\n",
    "        return self.cur_index==-1\n",
    "            \n",
    "    def push(self,item,stacknum):\n",
    "        print(item,stacknum)\n",
    "        if self.is_full(): print(\"Stack is full\") #break\n",
    "        insert_at = self.cur_index\n",
    "        self.cur_index = self.next_index[self.cur_index]\n",
    "        self.array[insert_at]= item\n",
    "        self.next_index[insert_at]= self.top[stacknum]\n",
    "        self.top[stacknum] = insert_at\n",
    "        return self.array\n",
    "    \n",
    "    def pop(self,stacknum):\n",
    "        if self.is_empty(stacknum): print(\"stack is empty\")\n",
    "        \n",
    "        pop_at = self.top[stacknum]\n",
    "        self.top[stacknum] = self.next_index[pop_at]\n",
    "        self.next_index[pop_at] = self.cur_index\n",
    "        self.cur_index = pop_at\n",
    "        return self.array[pop_at]    "
   ]
  },
  {
   "cell_type": "markdown",
   "metadata": {},
   "source": [
    "**How would you design a stack which, in addition to push and pop, has a function min\n",
    "which returns the minimum element? Push, pop and min should all operate in 0(1) time.**"
   ]
  },
  {
   "cell_type": "code",
   "execution_count": 272,
   "metadata": {},
   "outputs": [],
   "source": [
    "#method 1\n",
    "class MinStack:\n",
    "    def __init__(self):\n",
    "        self.stack=[]\n",
    "        self.minStack = []\n",
    "        \n",
    "    def push(self,item):\n",
    "        self.stack.append(item)\n",
    "        #print(len(self.minStack))\n",
    "        if len(self.minStack)==0 or item<=(self.minStack[-1]):\n",
    "            self.minStack.append(item)\n",
    "            \n",
    "    def pop(self):\n",
    "        value = self.stack.pop()\n",
    "        if value==(self.minStack[-1]):\n",
    "            self.minStack.pop()\n",
    "            \n",
    "    def minVal(self):\n",
    "        return self.minStack[-1]        "
   ]
  },
  {
   "cell_type": "code",
   "execution_count": 325,
   "metadata": {},
   "outputs": [],
   "source": [
    "# method 2\n",
    "##while pusing add 2*item-current.min_value\n",
    "##while poping remove 2*min_value - value\n",
    "class MinStack:\n",
    "    def __init__(self):\n",
    "        self.stack=[]\n",
    "        self.minVal = None\n",
    "         \n",
    "    def is_empty(self):\n",
    "        return len(self.stack)==0\n",
    "        \n",
    "    def push(self,item):\n",
    "        if self.is_empty():\n",
    "            self.stack.append(item)\n",
    "            self.minVal=item\n",
    "        elif item < self.minVal:\n",
    "            self.stack.append(2*item-self.minVal)\n",
    "            self.minVal= item\n",
    "        else:\n",
    "            self.stack.append(item)\n",
    "        return self.stack, self.minVal   \n",
    "                \n",
    "    def pop(self):\n",
    "        if self.is_empty(): print('Stack is empty')\n",
    "        value = self.stack.pop()\n",
    "        if value < self.minVal:\n",
    "            self.minVal = 2*self.minVal - value  \n",
    "            print(self.minVal,self.stack,self.minVal )\n",
    "        else:\n",
    "            print(value),self.stack,self.minVal        "
   ]
  },
  {
   "cell_type": "markdown",
   "metadata": {},
   "source": [
    "**3.3.Stack of Plates: Imagine a (literal) stack of plates. If the stack gets too high, it might topple.\n",
    "Therefore, in real life, we would likely start a new stack when the previous stack exceeds some\n",
    "threshold. Implement a data structure SetOfStacks that mimics this. SetO-fStacks should be\n",
    "composed of several stacks and should create a new stack once the previous one exceeds capacity.\n",
    "SetOfStacks. push() and SetOfStacks. pop() should behave identically to a single stack\n",
    "(that is, pop () should return the same values as it would if there were just a single stack).**"
   ]
  },
  {
   "cell_type": "code",
   "execution_count": 367,
   "metadata": {},
   "outputs": [],
   "source": [
    "#method 1 where stack = [[]]\n",
    "\n",
    "class StackOfPlates:\n",
    "    def __init__(self,n):\n",
    "        self.stack = [[]]\n",
    "        self.capacity = n\n",
    "        \n",
    "    def push(self,item):\n",
    "        if len(self.stack[-1])==self.capacity:\n",
    "            self.stack.append([])\n",
    "        self.stack[-1].append(item)\n",
    "        return self.stack\n",
    "    \n",
    "    def pop(self):\n",
    "        if len(self.stack[-1])==0:\n",
    "            del self.stack[-1]\n",
    "        return self.stack[-1].pop(),self.stack\n",
    "    \n",
    "    def popAt(self,index):\n",
    "        return self.stack[index].pop(),self.stack"
   ]
  },
  {
   "cell_type": "code",
   "execution_count": 491,
   "metadata": {},
   "outputs": [],
   "source": [
    "#method 2 where stack []\n",
    "class StackofPlates:\n",
    "    def __init__(self,n):\n",
    "        self.stack = []\n",
    "        self.capacity = n\n",
    "        \n",
    "    def push(self,item):\n",
    "        \n",
    "        if len(self.stack) and (len(self.stack[-1])<self.capacity):\n",
    "            #print(len(self.stack[-1])\n",
    "            self.stack[-1].append(item)\n",
    "        else:\n",
    "            self.stack.append([item])\n",
    "        return self.stack\n",
    "    \n",
    "    def pop(self):\n",
    "        if len(self.stack[-1])==0:\n",
    "            del self.stack[-1]\n",
    "        return self.stack[-1].pop(),self.stack\n",
    "    \n",
    "    def popAt(self,index):\n",
    "        \n",
    "            \n",
    "            print(self.stack,len(self.stack))\n",
    "            if index < 0 or len(self.stack)<=index or len(self.stack[index])==0:\n",
    "                return print('Error')\n",
    "            return self.stack[index].pop(),self.stack\n",
    "        "
   ]
  },
  {
   "cell_type": "markdown",
   "metadata": {},
   "source": [
    "**Queue via Stacks: Implement a MyQueue class which implements a queue using two stacks.**"
   ]
  },
  {
   "cell_type": "code",
   "execution_count": 506,
   "metadata": {},
   "outputs": [],
   "source": [
    "##method 1\n",
    "class QueueViaStacks:\n",
    "    def __init__(self):\n",
    "        self.stack1=[]\n",
    "        self.stack2=[]\n",
    "    def push(self,item):\n",
    "        self.stack1.append(item)\n",
    "        return self.stack1\n",
    "    def pop(self):\n",
    "            for i in range(len(self.stack1)):\n",
    "                self.stack2.append(self.stack1.pop())\n",
    "            return self.stack2.pop(),self.stack2\n",
    "    "
   ]
  },
  {
   "cell_type": "code",
   "execution_count": 605,
   "metadata": {},
   "outputs": [],
   "source": [
    "class QueueViaStacks():\n",
    "    def __init__(self):\n",
    "        self.stack1 = []\n",
    "        self.stack2 = []\n",
    "  \n",
    "    def add(self, item):\n",
    "        self.stack1.append(item)\n",
    "        return (self.stack1)\n",
    "    def remove(self):\n",
    "        if len(self.stack2)==0:\n",
    "            while len(self.stack1):\n",
    "                self.stack2.append(self.stack1.pop())\n",
    "        return self.stack2.pop(),self.stack2\n"
   ]
  },
  {
   "cell_type": "markdown",
   "metadata": {},
   "source": [
    "**Sort Stack: Write a program to sort a stack such that the smallest items are on the top. You can use\n",
    "an additional temporary stack, but you may not copy the elements into any other data structure\n",
    "(such as an array). The stack supports the following operations: push, pop, peek, and is Empty.**"
   ]
  },
  {
   "cell_type": "code",
   "execution_count": 660,
   "metadata": {},
   "outputs": [],
   "source": [
    "class sortStack:\n",
    "    def __init__(self):\n",
    "        self.pri_stack=[]\n",
    "        self.sec_stack=[]\n",
    "        \n",
    "    def push(self,item):\n",
    "        self.pri_stack.append(item)\n",
    "        return self.pri_stack\n",
    "        \n",
    "    def pop(self):\n",
    "        while len(self.pri_stack)!=0:\n",
    "            value = self.pri_stack.pop()\n",
    "            while len(self.sec_stack)!=0 and self.sec_stack[-1]<value:\n",
    "                self.pri_stack.append(self.sec_stack.pop())\n",
    "            self.sec_stack.append(value) \n",
    "            \n",
    "        return self.sec_stack.pop(),self.sec_stack"
   ]
  },
  {
   "cell_type": "markdown",
   "metadata": {},
   "source": [
    "**Animal Shelter: An animal shelter, which holds only dogs and cats, operates on a strictly\"first in, first\n",
    "out\" basis. People must adopt either the \"oldest\" (based on arrival time) of all animals at the shelter,\n",
    "or they can select whether they would prefer a dog or a cat (and will receive the oldest animal of\n",
    "that type). They cannot select which specific animal they would like. Create the data structures to\n",
    "maintain this system and implement operations such as enqueue, dequeueAny, dequeueDog,\n",
    "and dequeueCat. You may use the built-in Linked list data structure.**"
   ]
  },
  {
   "cell_type": "code",
   "execution_count": 714,
   "metadata": {},
   "outputs": [],
   "source": [
    "class AnimalShelter():\n",
    "    def __init__(self):\n",
    "        self.cats = []\n",
    "        self.dogs = []\n",
    "  \n",
    "    def enqueue(self, animal):\n",
    "        if animal.__class__ == Cat1: self.cats.append(animal)\n",
    "        else:                       self.dogs.append(animal)\n",
    "        return self.cats\n",
    "  \n",
    "    def dequeueAny(self):\n",
    "        if len(self.cats): return self.dequeueCat()\n",
    "        return self.dequeueDog()\n",
    "  \n",
    "    def dequeueCat(self):\n",
    "        if len(self.cats) == 0: return None\n",
    "        cat = self.cats[0]\n",
    "        self.cats = self.cats[1:]\n",
    "        return cat\n",
    "    \n",
    "    def dequeueDog(self):\n",
    "        if len(self.dogs) == 0: return None\n",
    "        dog = self.dogs[0]\n",
    "        self.dogs = self.dogs[1:]\n",
    "        return dog\n",
    "    \n",
    "    def __str__(self):\n",
    "        return self.name\n",
    "\n",
    "class Animal():\n",
    "    def __init__(self, name):\n",
    "        self.name = name\n",
    "  \n",
    "    def __str__(self):\n",
    "        return self.name\n",
    "\n",
    "class Cat1(Animal): pass\n",
    "class Dog1(Animal): pass"
   ]
  },
  {
   "cell_type": "code",
   "execution_count": null,
   "metadata": {},
   "outputs": [],
   "source": []
  }
 ],
 "metadata": {
  "kernelspec": {
   "display_name": "Python 3",
   "language": "python",
   "name": "python3"
  },
  "language_info": {
   "codemirror_mode": {
    "name": "ipython",
    "version": 3
   },
   "file_extension": ".py",
   "mimetype": "text/x-python",
   "name": "python",
   "nbconvert_exporter": "python",
   "pygments_lexer": "ipython3",
   "version": "3.5.2"
  }
 },
 "nbformat": 4,
 "nbformat_minor": 2
}
